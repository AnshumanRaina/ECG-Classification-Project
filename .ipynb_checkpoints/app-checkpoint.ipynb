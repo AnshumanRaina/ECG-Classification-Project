{
 "cells": [
  {
   "cell_type": "code",
   "execution_count": 1,
   "metadata": {
    "colab": {
     "base_uri": "https://localhost:8080/"
    },
    "executionInfo": {
     "elapsed": 19161,
     "status": "ok",
     "timestamp": 1642678817855,
     "user": {
      "displayName": "ANSHUMAN RAINA 19BAI10151",
      "photoUrl": "https://lh3.googleusercontent.com/a-/AOh14GgiGg7Er9kXU2F9L64XvYv5Bv5Oe_Hb0IgP84m4=s64",
      "userId": "02069950647084314499"
     },
     "user_tz": -330
    },
    "id": "ghnLrlE0w3Vu",
    "outputId": "cd283029-22d9-4178-9152-eadfc691e215"
   },
   "outputs": [
    {
     "name": "stdout",
     "output_type": "stream",
     "text": [
      "Mounted at /content/drive\n"
     ]
    }
   ],
   "source": [
    "from google.colab import drive\n",
    "drive.mount('/content/drive')"
   ]
  },
  {
   "cell_type": "code",
   "execution_count": 2,
   "metadata": {
    "colab": {
     "base_uri": "https://localhost:8080/"
    },
    "executionInfo": {
     "elapsed": 702894,
     "status": "ok",
     "timestamp": 1642679520732,
     "user": {
      "displayName": "ANSHUMAN RAINA 19BAI10151",
      "photoUrl": "https://lh3.googleusercontent.com/a-/AOh14GgiGg7Er9kXU2F9L64XvYv5Bv5Oe_Hb0IgP84m4=s64",
      "userId": "02069950647084314499"
     },
     "user_tz": -330
    },
    "id": "etHZF843wQSz",
    "outputId": "f84a0917-d112-4d93-925f-92788bf36971"
   },
   "outputs": [
    {
     "name": "stdout",
     "output_type": "stream",
     "text": [
      " * Serving Flask app \"__main__\" (lazy loading)\n",
      " * Environment: production\n",
      "\u001b[31m   WARNING: This is a development server. Do not use it in a production deployment.\u001b[0m\n",
      "\u001b[2m   Use a production WSGI server instead.\u001b[0m\n",
      " * Debug mode: off\n"
     ]
    },
    {
     "name": "stderr",
     "output_type": "stream",
     "text": [
      " * Running on http://127.0.0.1:5000/ (Press CTRL+C to quit)\n"
     ]
    }
   ],
   "source": [
    "import os\n",
    "import numpy as np #used for numerical analysis\n",
    "from flask import Flask,request,render_template\n",
    "# Flask-It is our framework which we are going to use to run/serve our application.\n",
    "#request-for accessing file which was uploaded by the user on our application.\n",
    "#render_template- used for rendering the html pages\n",
    "from tensorflow.keras.models import load_model#to load our trained model\n",
    "from tensorflow.keras.preprocessing import image\n",
    "\n",
    "app=Flask(__name__)#our flask app\n",
    "model=load_model('/Users/anshumanr/Documents/Externship/Project/ECG.h5')#loading the model\n",
    "\n",
    "@app.route(\"/\") #default route\n",
    "def about():\n",
    "    return render_template(\"/Users/anshumanr/Documents/Externship/Project/templates/about.html\")#rendering html page\n",
    "\n",
    "@app.route(\"/about\") #default route\n",
    "def home():\n",
    "    return render_template(\"/Users/anshumanr/Documents/Externship/Project/templates/about.html\")#rendering html page\n",
    "\n",
    "@app.route(\"/info\") #default route\n",
    "def information():\n",
    "    return render_template(\"/content/drive/MyDrive/Project/templates/info.html\")#rendering html page\n",
    "\n",
    "@app.route(\"/upload\") #default route\n",
    "def test():\n",
    "    return render_template(\"/content/drive/MyDrive/Project/templates/index6.html\")#rendering html page\n",
    "\n",
    "\n",
    "@app.route(\"/predict\",methods=[\"GET\",\"POST\"]) #route for our prediction\n",
    "def upload():\n",
    "    if request.method=='POST':\n",
    "        f=request.files['file'] #requesting the file\n",
    "        basepath=os.path.dirname('__file__')#storing the file directory\n",
    "        filepath=os.path.join(basepath,\"uploads\",f.filename)#storing the file in uploads folder\n",
    "        f.save(filepath)#saving the file\n",
    "        \n",
    "        img=image.load_img(filepath,target_size=(64,64)) #load and reshaping the image\n",
    "        x=image.img_to_array(img)#converting image to array\n",
    "        x=np.expand_dims(x,axis=0)#changing the dimensions of the image\n",
    "        \n",
    "        pred=model.predict_classes(x)#predicting classes\n",
    "        print(\"prediction\",pred)#printing the prediction\n",
    "    \n",
    "        index=['Left Bundle Branch Block','Normal','Premature Atrial Contraction',\n",
    "       'Premature Ventricular Contractions', 'Right Bundle Branch Block','Ventricular Fibrillation']\n",
    "        result=str(index[pred[0]])\n",
    "        return result#resturing the result\n",
    "    return None\n",
    "\n",
    "#port = int(os.getenv(\"PORT\"))\n",
    "if __name__==\"__main__\":\n",
    "    app.run(debug=False)#running our app\n",
    "    #app.run(host='0.0.0.0', port=8000)\n",
    "            "
   ]
  }
 ],
 "metadata": {
  "colab": {
   "name": "app.ipynb",
   "provenance": []
  },
  "kernelspec": {
   "display_name": "Python 3 (ipykernel)",
   "language": "python",
   "name": "python3"
  },
  "language_info": {
   "codemirror_mode": {
    "name": "ipython",
    "version": 3
   },
   "file_extension": ".py",
   "mimetype": "text/x-python",
   "name": "python",
   "nbconvert_exporter": "python",
   "pygments_lexer": "ipython3",
   "version": "3.9.9"
  }
 },
 "nbformat": 4,
 "nbformat_minor": 1
}
